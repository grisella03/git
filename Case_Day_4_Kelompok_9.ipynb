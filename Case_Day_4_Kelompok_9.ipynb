{
  "nbformat": 4,
  "nbformat_minor": 0,
  "metadata": {
    "colab": {
      "provenance": []
    },
    "kernelspec": {
      "name": "python3",
      "display_name": "Python 3"
    },
    "language_info": {
      "name": "python"
    }
  },
  "cells": [
    {
      "cell_type": "code",
      "execution_count": null,
      "metadata": {
        "id": "S7pReQT9wkaM"
      },
      "outputs": [],
      "source": [
        "class BangunDatar:\n",
        "    def hitung_luas(self):\n",
        "        pass"
      ]
    },
    {
      "cell_type": "code",
      "source": [
        "class Persegi(BangunDatar):\n",
        "    def __init__(self, sisi):\n",
        "        self.sisi = sisi\n",
        "\n",
        "    def hitung_luas(self):\n",
        "        return self.sisi * self.sisi\n",
        "\n",
        "class PersegiPanjang(BangunDatar):\n",
        "    def __init__(self, panjang, lebar):\n",
        "        self.panjang = panjang\n",
        "        self.lebar = lebar\n",
        "\n",
        "    def hitung_luas(self):\n",
        "        return self.panjang * self.lebar\n",
        "\n",
        "class Segitiga(BangunDatar):\n",
        "    def __init__(self, alas, tinggi):\n",
        "        self.alas = alas\n",
        "        self.tinggi = tinggi\n",
        "\n",
        "    def hitung_luas(self):\n",
        "        return 0.5 * self.alas * self.tinggi\n",
        "\n",
        "class Lingkaran(BangunDatar):\n",
        "    def __init__(self, jari_jari):\n",
        "        self.jari_jari = jari_jari\n",
        "\n",
        "    def hitung_luas(self):\n",
        "        return 3.14 * self.jari_jari * self.jari_jari\n",
        "\n",
        "class Trapesium(BangunDatar):\n",
        "    def __init__(self, atas, bawah, tinggi):\n",
        "        self.atas = atas\n",
        "        self.bawah = bawah\n",
        "        self.tinggi = tinggi\n",
        "\n",
        "    def hitung_luas(self):\n",
        "        return 0.5 * (self.atas + self.bawah) * self.tinggi\n",
        "\n",
        "# Main program\n",
        "n = int(input(\"Masukkan jumlah bangun datar: \"))\n",
        "bangun_datar_list = []\n",
        "\n",
        "for i in range(n):\n",
        "    jenis = input(f\"Masukkan jenis bangun datar ke-{i+1} (persegi/persegi panjang/segitiga/lingkaran/trapesium): \")\n",
        "\n",
        "    if jenis == \"persegi\":\n",
        "        sisi = float(input(\"Masukkan panjang sisi: \"))\n",
        "        bangun_datar_list.append(Persegi(sisi))\n",
        "    elif jenis == \"persegi panjang\":\n",
        "        panjang = float(input(\"Masukkan panjang: \"))\n",
        "        lebar = float(input(\"Masukkan lebar: \"))\n",
        "        bangun_datar_list.append(PersegiPanjang(panjang, lebar))\n",
        "    elif jenis == \"segitiga\":\n",
        "        alas = float(input(\"Masukkan alas: \"))\n",
        "        tinggi = float(input(\"Masukkan tinggi: \"))\n",
        "        bangun_datar_list.append(Segitiga(alas, tinggi))\n",
        "    elif jenis == \"lingkaran\":\n",
        "        jari_jari = float(input(\"Masukkan jari-jari: \"))\n",
        "        bangun_datar_list.append(Lingkaran(jari_jari))\n",
        "    elif jenis == \"trapesium\":\n",
        "        atas = float(input(\"Masukkan panjang sisi atas: \"))\n",
        "        bawah = float(input(\"Masukkan panjang sisi bawah: \"))\n",
        "        tinggi = float(input(\"Masukkan tinggi: \"))\n",
        "        bangun_datar_list.append(Trapesium(atas, bawah, tinggi))\n",
        "\n",
        "luas_bangun_datar = [bangun.hitung_luas() for bangun in bangun_datar_list]\n",
        "luas_bangun_datar.sort()\n",
        "\n",
        "print(\"Luas bangun datar:\", luas_bangun_datar)\n",
        "print(\"Total luas:\", sum(luas_bangun_datar))"
      ],
      "metadata": {
        "colab": {
          "base_uri": "https://localhost:8080/"
        },
        "id": "QOv1n54jyb7F",
        "outputId": "77612888-dac6-45dc-a0c7-7a6483664334"
      },
      "execution_count": null,
      "outputs": [
        {
          "output_type": "stream",
          "name": "stdout",
          "text": [
            "Masukkan jumlah bangun datar: 5\n",
            "Masukkan jenis bangun datar ke-1 (persegi/persegi panjang/segitiga/lingkaran/trapesium): persegi\n",
            "Masukkan panjang sisi: 7\n",
            "Masukkan jenis bangun datar ke-2 (persegi/persegi panjang/segitiga/lingkaran/trapesium): persegi panjang\n",
            "Masukkan panjang: 30\n",
            "Masukkan lebar: 25\n",
            "Masukkan jenis bangun datar ke-3 (persegi/persegi panjang/segitiga/lingkaran/trapesium): segitiga\n",
            "Masukkan alas: 10\n",
            "Masukkan tinggi: 6\n",
            "Masukkan jenis bangun datar ke-4 (persegi/persegi panjang/segitiga/lingkaran/trapesium): lingkaran\n",
            "Masukkan jari-jari: 14\n",
            "Masukkan jenis bangun datar ke-5 (persegi/persegi panjang/segitiga/lingkaran/trapesium): trapesium\n",
            "Masukkan panjang sisi atas: 4\n",
            "Masukkan panjang sisi bawah: 7\n",
            "Masukkan tinggi: 8\n",
            "Luas bangun datar: [30.0, 44.0, 49.0, 615.44, 750.0]\n",
            "Total luas: 1488.44\n"
          ]
        }
      ]
    }
  ]
}